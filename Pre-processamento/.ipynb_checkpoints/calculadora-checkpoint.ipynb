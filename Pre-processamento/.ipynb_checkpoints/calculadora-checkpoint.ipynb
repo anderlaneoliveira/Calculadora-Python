{
 "cells": [
  {
   "cell_type": "code",
   "execution_count": null,
   "metadata": {},
   "outputs": [],
   "source": [
    "# Calculadora em Python"
   ]
  },
  {
   "cell_type": "code",
   "execution_count": null,
   "metadata": {},
   "outputs": [],
   "source": [
    "# Desenvolvimento de uma calculadora simples usando linguagem Python."
   ]
  },
  {
   "cell_type": "code",
   "execution_count": 1,
   "metadata": {},
   "outputs": [
    {
     "name": "stdout",
     "output_type": "stream",
     "text": [
      "\n",
      "******************* Python Calculator *******************\n"
     ]
    }
   ],
   "source": [
    "print(\"\\n******************* Python Calculator *******************\")"
   ]
  },
  {
   "cell_type": "code",
   "execution_count": 3,
   "metadata": {},
   "outputs": [
    {
     "name": "stdout",
     "output_type": "stream",
     "text": [
      "Selecione a opção desejada: \n",
      "1 - Soma \n",
      "2 - Subtração \n",
      "3 - Multiplicação \n",
      "4 - Divisão\n"
     ]
    }
   ],
   "source": [
    "intro = (\"Selecione a opção desejada: \\n1 - Soma \\n2 - Subtração \\n3 - Multiplicação \\n4 - Divisão\")\n",
    "print(intro)"
   ]
  },
  {
   "cell_type": "code",
   "execution_count": 4,
   "metadata": {},
   "outputs": [
    {
     "name": "stdout",
     "output_type": "stream",
     "text": [
      "Digite sua opção: (1/2/3/4)1\n"
     ]
    }
   ],
   "source": [
    "x = int(input(\"Digite sua opção: (1/2/3/4)\"))"
   ]
  },
  {
   "cell_type": "code",
   "execution_count": 5,
   "metadata": {},
   "outputs": [
    {
     "name": "stdout",
     "output_type": "stream",
     "text": [
      "Digite o primeiro número: 100\n"
     ]
    }
   ],
   "source": [
    "a = int(input(\"Digite o primeiro número: \"))"
   ]
  },
  {
   "cell_type": "code",
   "execution_count": 6,
   "metadata": {},
   "outputs": [
    {
     "name": "stdout",
     "output_type": "stream",
     "text": [
      "Digite o segundo número: 1\n"
     ]
    }
   ],
   "source": [
    "b = int(input(\"Digite o segundo número: \"))"
   ]
  },
  {
   "cell_type": "code",
   "execution_count": 7,
   "metadata": {},
   "outputs": [
    {
     "ename": "SyntaxError",
     "evalue": "invalid syntax (<ipython-input-7-7acfe7972543>, line 14)",
     "output_type": "error",
     "traceback": [
      "\u001b[1;36m  File \u001b[1;32m\"<ipython-input-7-7acfe7972543>\"\u001b[1;36m, line \u001b[1;32m14\u001b[0m\n\u001b[1;33m    else ()\u001b[0m\n\u001b[1;37m         ^\u001b[0m\n\u001b[1;31mSyntaxError\u001b[0m\u001b[1;31m:\u001b[0m invalid syntax\n"
     ]
    }
   ],
   "source": [
    "def calculadora():\n",
    "    if (x == 1): \n",
    "        resultado = (a + b)\n",
    "        return resultado\n",
    "    elif (x == 2):\n",
    "        resultado = (a - b)\n",
    "        return resultado\n",
    "    elif (x == 3):\n",
    "        resultado = (a * b)\n",
    "        return resultado\n",
    "    elif (x == 4):\n",
    "        resultado = (a / b)\n",
    "        return resultado\n",
    "    else ()\n",
    "        print(\"Opção Inválida)"
   ]
  },
  {
   "cell_type": "code",
   "execution_count": null,
   "metadata": {},
   "outputs": [],
   "source": [
    "print('O resultado é %s' %calculadora())"
   ]
  }
 ],
 "metadata": {
  "kernelspec": {
   "display_name": "Python 3",
   "language": "python",
   "name": "python3"
  },
  "language_info": {
   "codemirror_mode": {
    "name": "ipython",
    "version": 3
   },
   "file_extension": ".py",
   "mimetype": "text/x-python",
   "name": "python",
   "nbconvert_exporter": "python",
   "pygments_lexer": "ipython3",
   "version": "3.8.5"
  }
 },
 "nbformat": 4,
 "nbformat_minor": 4
}
